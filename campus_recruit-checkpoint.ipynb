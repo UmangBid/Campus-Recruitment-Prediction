{
 "cells": [
  {
   "cell_type": "markdown",
   "metadata": {
    "id": "75eXDBq0KSO5"
   },
   "source": [
    "## Import libraries"
   ]
  },
  {
   "cell_type": "code",
   "execution_count": 21,
   "metadata": {},
   "outputs": [
    {
     "name": "stdout",
     "output_type": "stream",
     "text": [
      "Requirement already satisfied: joblib in c:\\users\\lenono\\anaconda3\\lib\\site-packages (1.1.1)\n",
      "Collecting joblib\n",
      "  Obtaining dependency information for joblib from https://files.pythonhosted.org/packages/10/40/d551139c85db202f1f384ba8bcf96aca2f329440a844f924c8a0040b6d02/joblib-1.3.2-py3-none-any.whl.metadata\n",
      "  Downloading joblib-1.3.2-py3-none-any.whl.metadata (5.4 kB)\n",
      "Downloading joblib-1.3.2-py3-none-any.whl (302 kB)\n",
      "   ---------------------------------------- 0.0/302.2 kB ? eta -:--:--\n",
      "   ---------------------------------------- 302.2/302.2 kB 9.1 MB/s eta 0:00:00\n",
      "Installing collected packages: joblib\n",
      "  Attempting uninstall: joblib\n",
      "    Found existing installation: joblib 1.1.1\n",
      "    Uninstalling joblib-1.1.1:\n",
      "      Successfully uninstalled joblib-1.1.1\n",
      "Successfully installed joblib-1.3.2\n",
      "Note: you may need to restart the kernel to use updated packages.\n"
     ]
    },
    {
     "name": "stderr",
     "output_type": "stream",
     "text": [
      "ERROR: pip's dependency resolver does not currently take into account all the packages that are installed. This behaviour is the source of the following dependency conflicts.\n",
      "transformers 2.1.1 requires sentencepiece, which is not installed.\n",
      "pandas-profiling 3.2.0 requires joblib~=1.1.0, but you have joblib 1.3.2 which is incompatible.\n"
     ]
    }
   ],
   "source": [
    "%pip install --upgrade joblib\n"
   ]
  },
  {
   "cell_type": "code",
   "execution_count": 1,
   "metadata": {
    "execution": {
     "iopub.execute_input": "2023-09-24T16:54:20.034830Z",
     "iopub.status.busy": "2023-09-24T16:54:20.034440Z",
     "iopub.status.idle": "2023-09-24T16:54:20.042080Z",
     "shell.execute_reply": "2023-09-24T16:54:20.041144Z",
     "shell.execute_reply.started": "2023-09-24T16:54:20.034798Z"
    },
    "id": "s8BaCQ7RKSO_"
   },
   "outputs": [],
   "source": [
    "#Installation of required libraries\n",
    "import numpy as np\n",
    "import pandas as pd\n",
    "import seaborn as sns\n",
    "# import statsmodels.api as sm\n",
    "import matplotlib.pyplot as plt\n",
    "from sklearn.preprocessing import LabelEncoder\n",
    "# from sklearn.preprocessing import scale, StandardScaler\n",
    "from sklearn.model_selection import train_test_split, GridSearchCV, cross_validate\n",
    "from sklearn.metrics import *\n",
    "# from sklearn.neighbors import KNeighborsClassifier\n",
    "from sklearn.svm import SVC\n",
    "# from sklearn.tree import DecisionTreeClassifier\n",
    "# from sklearn.ensemble import VotingClassifier\n",
    "from sklearn.model_selection import StratifiedKFold\n",
    "# from mlxtend.feature_selection import SequentialFeatureSelector as SFS\n",
    "# from imblearn.over_sampling import SMOTE\n",
    "import warnings\n",
    "warnings.simplefilter(action = \"ignore\")\n",
    "# from pandas_profiling import ProfileReport\n",
    "\n",
    "#StratifiedKFold is a type of cross-validation, n_splits defines the number of folds (K)\n",
    "kf = StratifiedKFold(n_splits=10, random_state=123, shuffle=True)"
   ]
  },
  {
   "cell_type": "markdown",
   "metadata": {
    "id": "zWqV6ThVKSPA"
   },
   "source": [
    "## Exploratory Data Analysis (EDA)"
   ]
  },
  {
   "cell_type": "markdown",
   "metadata": {
    "id": "nUIp94vDKSPB"
   },
   "source": [
    "## Read the datasets"
   ]
  },
  {
   "cell_type": "markdown",
   "metadata": {
    "id": "S_TveGcDKSPB"
   },
   "source": [
    "## Identify the Features and Target Class"
   ]
  },
  {
   "cell_type": "code",
   "execution_count": 2,
   "metadata": {
    "colab": {
     "base_uri": "https://localhost:8080/"
    },
    "execution": {
     "iopub.execute_input": "2023-09-24T16:54:24.003220Z",
     "iopub.status.busy": "2023-09-24T16:54:24.002881Z",
     "iopub.status.idle": "2023-09-24T16:54:24.099260Z",
     "shell.execute_reply": "2023-09-24T16:54:24.098549Z",
     "shell.execute_reply.started": "2023-09-24T16:54:24.003195Z"
    },
    "id": "ZAEKO8fTKSPC",
    "outputId": "e7f2820b-3f05-48df-b9c6-c287516ecf0a"
   },
   "outputs": [
    {
     "name": "stdout",
     "output_type": "stream",
     "text": [
      "Features shape: (21285, 12)\n",
      "Class shape: (21285,)\n"
     ]
    }
   ],
   "source": [
    "# Training #\n",
    "df=pd.read_csv('data\\Placement_Data_Full_Class.csv')\n",
    "# Initialize the LabelEncoder\n",
    "label_encoder = LabelEncoder()\n",
    "\n",
    "# Specify the list of columns you want to label encode\n",
    "categorical_columns = ['gender', 'ssc_b', 'hsc_b', 'hsc_s', 'degree_t', 'workex', 'specialisation']\n",
    "\n",
    "# Apply label encoding to each column\n",
    "for column in categorical_columns:\n",
    "    df[column] = label_encoder.fit_transform(df[column])\n",
    "df['status'] = df['status'].replace({'Placed': 1, 'Not Placed': 0})\n",
    "X =df.drop(['sl_no','status','salary'], axis=1)\n",
    "Y =df['status']\n",
    "print('Features shape:', X.shape)\n",
    "print('Class shape:', Y.shape)"
   ]
  },
  {
   "cell_type": "code",
   "execution_count": 3,
   "metadata": {
    "execution": {
     "iopub.execute_input": "2023-09-24T16:54:36.699553Z",
     "iopub.status.busy": "2023-09-24T16:54:36.699162Z",
     "iopub.status.idle": "2023-09-24T16:54:36.705694Z",
     "shell.execute_reply": "2023-09-24T16:54:36.704260Z",
     "shell.execute_reply.started": "2023-09-24T16:54:36.699521Z"
    },
    "id": "RinUMsr2KSPD"
   },
   "outputs": [],
   "source": [
    "from sklearn.model_selection import train_test_split"
   ]
  },
  {
   "cell_type": "code",
   "execution_count": 4,
   "metadata": {
    "execution": {
     "iopub.execute_input": "2023-09-24T16:54:37.015075Z",
     "iopub.status.busy": "2023-09-24T16:54:37.014699Z",
     "iopub.status.idle": "2023-09-24T16:54:37.026016Z",
     "shell.execute_reply": "2023-09-24T16:54:37.024633Z",
     "shell.execute_reply.started": "2023-09-24T16:54:37.015047Z"
    },
    "id": "Gn4QP-3fKSPD"
   },
   "outputs": [],
   "source": [
    "x_train,x_test,y_train,y_test = train_test_split(X,Y,test_size = 0.1,random_state = 42, shuffle = True)"
   ]
  },
  {
   "cell_type": "code",
   "execution_count": 5,
   "metadata": {
    "colab": {
     "base_uri": "https://localhost:8080/"
    },
    "execution": {
     "iopub.execute_input": "2023-09-24T16:54:37.871130Z",
     "iopub.status.busy": "2023-09-24T16:54:37.870748Z",
     "iopub.status.idle": "2023-09-24T16:54:37.877131Z",
     "shell.execute_reply": "2023-09-24T16:54:37.875961Z",
     "shell.execute_reply.started": "2023-09-24T16:54:37.871100Z"
    },
    "id": "DCNbe6QkKSPE",
    "outputId": "4cf7018a-a5f5-45c9-ad0a-4f3590ef733a"
   },
   "outputs": [
    {
     "name": "stdout",
     "output_type": "stream",
     "text": [
      "Features shape:  (19156, 12)\n",
      "Class shape:  (19156,)\n",
      "Features shape:  (2129, 12)\n",
      "Class shape:  (2129,)\n"
     ]
    }
   ],
   "source": [
    "# Testing #\n",
    "print(\"Features shape: \", x_train.shape)\n",
    "print(\"Class shape: \", y_train.shape)\n",
    "print(\"Features shape: \", x_test.shape)\n",
    "print(\"Class shape: \", y_test.shape)"
   ]
  },
  {
   "cell_type": "code",
   "execution_count": 6,
   "metadata": {
    "colab": {
     "base_uri": "https://localhost:8080/"
    },
    "execution": {
     "iopub.execute_input": "2023-09-24T16:54:38.924052Z",
     "iopub.status.busy": "2023-09-24T16:54:38.923723Z",
     "iopub.status.idle": "2023-09-24T16:54:38.934382Z",
     "shell.execute_reply": "2023-09-24T16:54:38.933772Z",
     "shell.execute_reply.started": "2023-09-24T16:54:38.924027Z"
    },
    "id": "KuMwnp_rKSPF",
    "outputId": "55c9351b-75b7-4aac-a174-a9f2829d33a6"
   },
   "outputs": [
    {
     "data": {
      "text/plain": [
       "8131     1\n",
       "3668     1\n",
       "16551    1\n",
       "15190    1\n",
       "4279     0\n",
       "        ..\n",
       "11284    1\n",
       "11964    1\n",
       "5390     1\n",
       "860      1\n",
       "15795    0\n",
       "Name: status, Length: 19156, dtype: int64"
      ]
     },
     "execution_count": 6,
     "metadata": {},
     "output_type": "execute_result"
    }
   ],
   "source": [
    "y_train"
   ]
  },
  {
   "cell_type": "code",
   "execution_count": 7,
   "metadata": {
    "colab": {
     "base_uri": "https://localhost:8080/",
     "height": 424
    },
    "execution": {
     "iopub.execute_input": "2023-09-24T16:54:40.452063Z",
     "iopub.status.busy": "2023-09-24T16:54:40.451661Z",
     "iopub.status.idle": "2023-09-24T16:54:40.475280Z",
     "shell.execute_reply": "2023-09-24T16:54:40.474259Z",
     "shell.execute_reply.started": "2023-09-24T16:54:40.452031Z"
    },
    "id": "EE-bXeMnKSPF",
    "outputId": "b17ccd8b-201f-4631-d2e6-c504e187418c"
   },
   "outputs": [
    {
     "data": {
      "text/html": [
       "<div>\n",
       "<style scoped>\n",
       "    .dataframe tbody tr th:only-of-type {\n",
       "        vertical-align: middle;\n",
       "    }\n",
       "\n",
       "    .dataframe tbody tr th {\n",
       "        vertical-align: top;\n",
       "    }\n",
       "\n",
       "    .dataframe thead th {\n",
       "        text-align: right;\n",
       "    }\n",
       "</style>\n",
       "<table border=\"1\" class=\"dataframe\">\n",
       "  <thead>\n",
       "    <tr style=\"text-align: right;\">\n",
       "      <th></th>\n",
       "      <th>gender</th>\n",
       "      <th>ssc_p</th>\n",
       "      <th>ssc_b</th>\n",
       "      <th>hsc_p</th>\n",
       "      <th>hsc_b</th>\n",
       "      <th>hsc_s</th>\n",
       "      <th>degree_p</th>\n",
       "      <th>degree_t</th>\n",
       "      <th>workex</th>\n",
       "      <th>etest_p</th>\n",
       "      <th>specialisation</th>\n",
       "      <th>mba_p</th>\n",
       "    </tr>\n",
       "  </thead>\n",
       "  <tbody>\n",
       "    <tr>\n",
       "      <th>8131</th>\n",
       "      <td>0</td>\n",
       "      <td>59.0</td>\n",
       "      <td>0</td>\n",
       "      <td>60.0</td>\n",
       "      <td>1</td>\n",
       "      <td>1</td>\n",
       "      <td>56.0</td>\n",
       "      <td>0</td>\n",
       "      <td>0</td>\n",
       "      <td>55.00</td>\n",
       "      <td>1</td>\n",
       "      <td>57.90</td>\n",
       "    </tr>\n",
       "    <tr>\n",
       "      <th>3668</th>\n",
       "      <td>0</td>\n",
       "      <td>77.0</td>\n",
       "      <td>0</td>\n",
       "      <td>87.0</td>\n",
       "      <td>0</td>\n",
       "      <td>1</td>\n",
       "      <td>59.0</td>\n",
       "      <td>0</td>\n",
       "      <td>0</td>\n",
       "      <td>68.00</td>\n",
       "      <td>0</td>\n",
       "      <td>68.63</td>\n",
       "    </tr>\n",
       "    <tr>\n",
       "      <th>16551</th>\n",
       "      <td>1</td>\n",
       "      <td>58.0</td>\n",
       "      <td>1</td>\n",
       "      <td>60.0</td>\n",
       "      <td>1</td>\n",
       "      <td>2</td>\n",
       "      <td>72.0</td>\n",
       "      <td>2</td>\n",
       "      <td>0</td>\n",
       "      <td>74.00</td>\n",
       "      <td>0</td>\n",
       "      <td>53.62</td>\n",
       "    </tr>\n",
       "    <tr>\n",
       "      <th>15190</th>\n",
       "      <td>1</td>\n",
       "      <td>65.0</td>\n",
       "      <td>0</td>\n",
       "      <td>64.8</td>\n",
       "      <td>1</td>\n",
       "      <td>1</td>\n",
       "      <td>69.5</td>\n",
       "      <td>0</td>\n",
       "      <td>1</td>\n",
       "      <td>56.00</td>\n",
       "      <td>0</td>\n",
       "      <td>56.94</td>\n",
       "    </tr>\n",
       "    <tr>\n",
       "      <th>4279</th>\n",
       "      <td>1</td>\n",
       "      <td>52.0</td>\n",
       "      <td>1</td>\n",
       "      <td>55.0</td>\n",
       "      <td>1</td>\n",
       "      <td>1</td>\n",
       "      <td>56.3</td>\n",
       "      <td>0</td>\n",
       "      <td>0</td>\n",
       "      <td>59.00</td>\n",
       "      <td>0</td>\n",
       "      <td>64.74</td>\n",
       "    </tr>\n",
       "    <tr>\n",
       "      <th>...</th>\n",
       "      <td>...</td>\n",
       "      <td>...</td>\n",
       "      <td>...</td>\n",
       "      <td>...</td>\n",
       "      <td>...</td>\n",
       "      <td>...</td>\n",
       "      <td>...</td>\n",
       "      <td>...</td>\n",
       "      <td>...</td>\n",
       "      <td>...</td>\n",
       "      <td>...</td>\n",
       "      <td>...</td>\n",
       "    </tr>\n",
       "    <tr>\n",
       "      <th>11284</th>\n",
       "      <td>1</td>\n",
       "      <td>69.0</td>\n",
       "      <td>0</td>\n",
       "      <td>63.0</td>\n",
       "      <td>1</td>\n",
       "      <td>2</td>\n",
       "      <td>65.0</td>\n",
       "      <td>0</td>\n",
       "      <td>1</td>\n",
       "      <td>55.00</td>\n",
       "      <td>1</td>\n",
       "      <td>58.23</td>\n",
       "    </tr>\n",
       "    <tr>\n",
       "      <th>11964</th>\n",
       "      <td>1</td>\n",
       "      <td>77.0</td>\n",
       "      <td>0</td>\n",
       "      <td>70.0</td>\n",
       "      <td>0</td>\n",
       "      <td>1</td>\n",
       "      <td>59.0</td>\n",
       "      <td>0</td>\n",
       "      <td>1</td>\n",
       "      <td>58.00</td>\n",
       "      <td>0</td>\n",
       "      <td>54.43</td>\n",
       "    </tr>\n",
       "    <tr>\n",
       "      <th>5390</th>\n",
       "      <td>0</td>\n",
       "      <td>65.0</td>\n",
       "      <td>0</td>\n",
       "      <td>75.0</td>\n",
       "      <td>0</td>\n",
       "      <td>1</td>\n",
       "      <td>69.0</td>\n",
       "      <td>0</td>\n",
       "      <td>1</td>\n",
       "      <td>72.00</td>\n",
       "      <td>0</td>\n",
       "      <td>64.66</td>\n",
       "    </tr>\n",
       "    <tr>\n",
       "      <th>860</th>\n",
       "      <td>1</td>\n",
       "      <td>67.0</td>\n",
       "      <td>1</td>\n",
       "      <td>91.0</td>\n",
       "      <td>1</td>\n",
       "      <td>1</td>\n",
       "      <td>58.0</td>\n",
       "      <td>2</td>\n",
       "      <td>0</td>\n",
       "      <td>55.00</td>\n",
       "      <td>1</td>\n",
       "      <td>58.80</td>\n",
       "    </tr>\n",
       "    <tr>\n",
       "      <th>15795</th>\n",
       "      <td>0</td>\n",
       "      <td>45.0</td>\n",
       "      <td>1</td>\n",
       "      <td>57.0</td>\n",
       "      <td>1</td>\n",
       "      <td>1</td>\n",
       "      <td>58.0</td>\n",
       "      <td>0</td>\n",
       "      <td>1</td>\n",
       "      <td>56.39</td>\n",
       "      <td>1</td>\n",
       "      <td>64.95</td>\n",
       "    </tr>\n",
       "  </tbody>\n",
       "</table>\n",
       "<p>19156 rows × 12 columns</p>\n",
       "</div>"
      ],
      "text/plain": [
       "       gender  ssc_p  ssc_b  hsc_p  hsc_b  hsc_s  degree_p  degree_t  workex  \\\n",
       "8131        0   59.0      0   60.0      1      1      56.0         0       0   \n",
       "3668        0   77.0      0   87.0      0      1      59.0         0       0   \n",
       "16551       1   58.0      1   60.0      1      2      72.0         2       0   \n",
       "15190       1   65.0      0   64.8      1      1      69.5         0       1   \n",
       "4279        1   52.0      1   55.0      1      1      56.3         0       0   \n",
       "...       ...    ...    ...    ...    ...    ...       ...       ...     ...   \n",
       "11284       1   69.0      0   63.0      1      2      65.0         0       1   \n",
       "11964       1   77.0      0   70.0      0      1      59.0         0       1   \n",
       "5390        0   65.0      0   75.0      0      1      69.0         0       1   \n",
       "860         1   67.0      1   91.0      1      1      58.0         2       0   \n",
       "15795       0   45.0      1   57.0      1      1      58.0         0       1   \n",
       "\n",
       "       etest_p  specialisation  mba_p  \n",
       "8131     55.00               1  57.90  \n",
       "3668     68.00               0  68.63  \n",
       "16551    74.00               0  53.62  \n",
       "15190    56.00               0  56.94  \n",
       "4279     59.00               0  64.74  \n",
       "...        ...             ...    ...  \n",
       "11284    55.00               1  58.23  \n",
       "11964    58.00               0  54.43  \n",
       "5390     72.00               0  64.66  \n",
       "860      55.00               1  58.80  \n",
       "15795    56.39               1  64.95  \n",
       "\n",
       "[19156 rows x 12 columns]"
      ]
     },
     "execution_count": 7,
     "metadata": {},
     "output_type": "execute_result"
    }
   ],
   "source": [
    "x_train"
   ]
  },
  {
   "cell_type": "markdown",
   "metadata": {
    "id": "X-czptIeKSPG"
   },
   "source": [
    "## Start Modelling"
   ]
  },
  {
   "cell_type": "code",
   "execution_count": 8,
   "metadata": {
    "execution": {
     "iopub.execute_input": "2023-09-24T16:54:50.393291Z",
     "iopub.status.busy": "2023-09-24T16:54:50.392953Z",
     "iopub.status.idle": "2023-09-24T16:54:50.400463Z",
     "shell.execute_reply": "2023-09-24T16:54:50.399201Z",
     "shell.execute_reply.started": "2023-09-24T16:54:50.393261Z"
    },
    "id": "_BZK7hPIKSPG"
   },
   "outputs": [],
   "source": [
    "def model_evaluation(model, Y_predicted, X_train, Y_train, Y_test):\n",
    "    print('* Train score: %0.2f' %(model.score(X_train,Y_train)*100))\n",
    "    print('* Confusion matrix: \\n', confusion_matrix(Y_test, Y_predicted))\n",
    "    print('* Accuracy: %0.2f' %(accuracy_score(Y_test,Y_predicted)*100))\n",
    "    print('* F1: %0.2f' %(f1_score(Y_test,Y_predicted)*100))\n",
    "    print('* Precision: %0.2f' %(precision_score(Y_test,Y_predicted)*100))\n",
    "    print('* Recall: %0.2f' %(recall_score(Y_test,Y_predicted)*100))\n",
    "    print('* ROC_AUC: %0.2f' %(roc_auc_score(Y_test,Y_predicted)*100))"
   ]
  },
  {
   "cell_type": "markdown",
   "metadata": {
    "id": "KMpkuS__KSPH"
   },
   "source": [
    "# Algorithm 1"
   ]
  },
  {
   "cell_type": "code",
   "execution_count": 9,
   "metadata": {
    "colab": {
     "base_uri": "https://localhost:8080/"
    },
    "execution": {
     "iopub.execute_input": "2023-09-24T16:54:51.463028Z",
     "iopub.status.busy": "2023-09-24T16:54:51.462672Z",
     "iopub.status.idle": "2023-09-24T16:55:05.303917Z",
     "shell.execute_reply": "2023-09-24T16:55:05.303178Z",
     "shell.execute_reply.started": "2023-09-24T16:54:51.462999Z"
    },
    "id": "mfTZL0rsKSPI",
    "outputId": "d14fc2d8-34e3-49b3-da2e-692e391cd822"
   },
   "outputs": [
    {
     "name": "stdout",
     "output_type": "stream",
     "text": [
      "* Train score: 87.49\n",
      "* Confusion matrix: \n",
      " [[ 525  190]\n",
      " [  87 1327]]\n",
      "* Accuracy: 86.99\n",
      "* F1: 90.55\n",
      "* Precision: 87.48\n",
      "* Recall: 93.85\n",
      "* ROC_AUC: 83.64\n"
     ]
    }
   ],
   "source": [
    "SVM_model=SVC(random_state=5)\n",
    "\n",
    "#Train the classifier using the training sets\n",
    "SVM_model.fit(x_train,y_train)\n",
    "\n",
    "#Predict the response for test dataset\n",
    "Y_predicted_SVM=SVM_model.predict(x_test)\n",
    "\n",
    "#Model Evaluation:\n",
    "model_evaluation(SVM_model, Y_predicted_SVM, x_train, y_train, y_test)"
   ]
  },
  {
   "cell_type": "code",
   "execution_count": 10,
   "metadata": {
    "colab": {
     "base_uri": "https://localhost:8080/"
    },
    "execution": {
     "iopub.execute_input": "2023-09-24T16:56:54.556110Z",
     "iopub.status.busy": "2023-09-24T16:56:54.555680Z",
     "iopub.status.idle": "2023-09-24T16:56:54.566132Z",
     "shell.execute_reply": "2023-09-24T16:56:54.564951Z",
     "shell.execute_reply.started": "2023-09-24T16:56:54.556075Z"
    },
    "id": "N5u-yxHjKSPJ",
    "outputId": "a54da485-9b90-45f4-881d-36d99e84a5fc"
   },
   "outputs": [
    {
     "name": "stdout",
     "output_type": "stream",
     "text": [
      "Trained SVM model saved to svm_model.pkl\n"
     ]
    }
   ],
   "source": [
    "import joblib\n",
    "\n",
    "# Specify the file path where you want to save the model\n",
    "model_filename = 'svm_model.pkl'\n",
    "\n",
    "# Save the trained SVM model to the specified file\n",
    "joblib.dump(SVM_model, model_filename)\n",
    "\n",
    "print(f\"Trained SVM model saved to {model_filename}\")\n"
   ]
  },
  {
   "cell_type": "code",
   "execution_count": 11,
   "metadata": {
    "colab": {
     "base_uri": "https://localhost:8080/"
    },
    "execution": {
     "iopub.status.busy": "2023-09-24T16:00:25.898584Z",
     "iopub.status.idle": "2023-09-24T16:00:25.899173Z",
     "shell.execute_reply": "2023-09-24T16:00:25.899028Z",
     "shell.execute_reply.started": "2023-09-24T16:00:25.899012Z"
    },
    "id": "yUFEXrerKSPK",
    "outputId": "89fd6202-6f68-4d38-9a1d-2738b329c79b"
   },
   "outputs": [
    {
     "name": "stdout",
     "output_type": "stream",
     "text": [
      "* Train score: 89.36\n",
      "* Confusion matrix: \n",
      " [[ 545  170]\n",
      " [  68 1346]]\n",
      "* Accuracy: 88.82\n",
      "* F1: 91.88\n",
      "* Precision: 88.79\n",
      "* Recall: 95.19\n",
      "* ROC_AUC: 85.71\n"
     ]
    }
   ],
   "source": [
    "SVM_model_OPT=SVC(C=2, gamma=1, kernel='linear', random_state=5)\n",
    "\n",
    "SVM_model_OPT.fit(x_train,y_train)\n",
    "\n",
    "Y_predicted_SVM_OPT=SVM_model_OPT.predict(x_test)\n",
    "\n",
    "model_evaluation(SVM_model_OPT, Y_predicted_SVM_OPT, x_train, y_train, y_test)"
   ]
  },
  {
   "cell_type": "code",
   "execution_count": 12,
   "metadata": {
    "colab": {
     "base_uri": "https://localhost:8080/"
    },
    "id": "LnDxESnCRn5Q",
    "outputId": "e5583811-8179-43f7-dcbc-4927fc634dc7"
   },
   "outputs": [
    {
     "name": "stdout",
     "output_type": "stream",
     "text": [
      "Trained SVM model saved to svm_model_OPT.pkl\n"
     ]
    }
   ],
   "source": [
    "import joblib\n",
    "\n",
    "# Specify the file path where you want to save the model\n",
    "model_filename = 'svm_model_OPT.pkl'\n",
    "\n",
    "# Save the trained SVM model to the specified file\n",
    "joblib.dump(SVM_model_OPT, model_filename)\n",
    "\n",
    "print(f\"Trained SVM model saved to {model_filename}\")\n"
   ]
  },
  {
   "cell_type": "code",
   "execution_count": null,
   "metadata": {},
   "outputs": [],
   "source": []
  }
 ],
 "metadata": {
  "colab": {
   "provenance": []
  },
  "kernelspec": {
   "display_name": "Python 3 (ipykernel)",
   "language": "python",
   "name": "python3"
  },
  "language_info": {
   "codemirror_mode": {
    "name": "ipython",
    "version": 3
   },
   "file_extension": ".py",
   "mimetype": "text/x-python",
   "name": "python",
   "nbconvert_exporter": "python",
   "pygments_lexer": "ipython3",
   "version": "3.11.4"
  }
 },
 "nbformat": 4,
 "nbformat_minor": 1
}
